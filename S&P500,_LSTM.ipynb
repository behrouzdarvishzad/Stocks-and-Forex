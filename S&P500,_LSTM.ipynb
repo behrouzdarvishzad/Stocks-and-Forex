{
  "nbformat": 4,
  "nbformat_minor": 0,
  "metadata": {
    "colab": {
      "provenance": []
    },
    "kernelspec": {
      "name": "python3",
      "display_name": "Python 3"
    },
    "language_info": {
      "name": "python"
    }
  },
  "cells": [
    {
      "cell_type": "markdown",
      "source": [
        "## Time Series\n",
        "Time series refers to a sequence of data points or observations that are collected and recorded over a period of time at regular intervals. It represents the behavior and patterns of a variable or phenomenon over time, allowing analysis and forecasting of trends, seasonality, and other temporal dependencies. Time series analysis involves exploring and modeling the data to uncover underlying patterns, make predictions, or gain insights into the dynamics and behavior of the observed phenomenon. It is widely used in various domains, including finance, economics, weather forecasting, and signal processing."
      ],
      "metadata": {
        "id": "xRTotiLz94qF"
      }
    },
    {
      "cell_type": "markdown",
      "source": [
        "To perform stock price prediction using LSTM in Python, we'll use the TensorFlow library, which provides a high-level API called Keras for building and training deep learning models. Here's a step-by-step guide to help you code the LSTM model for stock price prediction\n"
      ],
      "metadata": {
        "id": "Fbq7YmLV99N7"
      }
    },
    {
      "cell_type": "markdown",
      "source": [
        "Yahoo Finance has recently made changes to their website, and it seems they no longer provide the option to download historical data directly from their site. However, there are still alternative ways to obtain the historical data for the S&P 500 index. One such method is by using Python and a library called yfinance.\n",
        "\n",
        "Here's an example of how you can use yfinance to download historical data for the S&P 500 index:\n"
      ],
      "metadata": {
        "id": "hBL8Nezr9F-t"
      }
    },
    {
      "cell_type": "code",
      "execution_count": null,
      "metadata": {
        "id": "HGh6_5nXUWX7",
        "colab": {
          "base_uri": "https://localhost:8080/"
        },
        "outputId": "1634229a-aa7a-4966-aa53-d1459929d152"
      },
      "outputs": [
        {
          "output_type": "stream",
          "name": "stdout",
          "text": [
            "\r[*********************100%***********************]  1 of 1 completed\n",
            "                   Open         High          Low        Close    Adj Close  \\\n",
            "Date                                                                          \n",
            "2000-01-03  1469.250000  1478.000000  1438.359985  1455.219971  1455.219971   \n",
            "2000-01-04  1455.219971  1455.219971  1397.430054  1399.420044  1399.420044   \n",
            "2000-01-05  1399.420044  1413.270020  1377.680054  1402.109985  1402.109985   \n",
            "2000-01-06  1402.109985  1411.900024  1392.099976  1403.449951  1403.449951   \n",
            "2000-01-07  1403.449951  1441.469971  1400.729980  1441.469971  1441.469971   \n",
            "...                 ...          ...          ...          ...          ...   \n",
            "2023-06-15  4365.330078  4439.200195  4362.600098  4425.839844  4425.839844   \n",
            "2023-06-16  4440.950195  4448.470215  4407.439941  4409.589844  4409.589844   \n",
            "2023-06-20  4396.109863  4400.149902  4367.189941  4388.709961  4388.709961   \n",
            "2023-06-21  4380.009766  4386.220215  4360.140137  4365.689941  4365.689941   \n",
            "2023-06-22  4355.399902  4382.250000  4351.819824  4381.890137  4381.890137   \n",
            "\n",
            "                Volume  \n",
            "Date                    \n",
            "2000-01-03   931800000  \n",
            "2000-01-04  1009000000  \n",
            "2000-01-05  1085500000  \n",
            "2000-01-06  1092300000  \n",
            "2000-01-07  1225200000  \n",
            "...                ...  \n",
            "2023-06-15  4176690000  \n",
            "2023-06-16  6848600000  \n",
            "2023-06-20  4055790000  \n",
            "2023-06-21  3709330000  \n",
            "2023-06-22  3511000000  \n",
            "\n",
            "[5905 rows x 6 columns]\n"
          ]
        }
      ],
      "source": [
        "import yfinance as yf\n",
        "\n",
        "# Define the ticker symbol for the S&P 500 index\n",
        "ticker_symbol = \"^GSPC\"\n",
        "\n",
        "# Define the desired date range for the historical data\n",
        "start_date = \"2000-01-01\"\n",
        "end_date = \"2023-06-23\"\n",
        "\n",
        "# Download the historical data using yfinance\n",
        "data = yf.download(ticker_symbol, start=start_date, end=end_date)\n",
        "\n",
        "# Print the downloaded data\n",
        "print(data)"
      ]
    },
    {
      "cell_type": "markdown",
      "source": [
        "## Requared Libraries"
      ],
      "metadata": {
        "id": "cg0Nwq3p6JEO"
      }
    },
    {
      "cell_type": "code",
      "source": [
        "import numpy as np\n",
        "import pandas as pd\n",
        "from sklearn.metrics import mean_squared_error, mean_absolute_error\n",
        "from sklearn.preprocessing import MinMaxScaler\n",
        "from tensorflow.keras.models import Sequential\n",
        "from tensorflow.keras.layers import LSTM, Dense\n",
        "import matplotlib.pyplot as plt"
      ],
      "metadata": {
        "id": "7Ju6Efx86AmG"
      },
      "execution_count": null,
      "outputs": []
    },
    {
      "cell_type": "code",
      "source": [
        "# Preprocess the data\n",
        "scaler = MinMaxScaler(feature_range=(0, 1))\n",
        "scaled_data = scaler.fit_transform(data['Close'].values.reshape(-1, 1))"
      ],
      "metadata": {
        "id": "7y6Vte-76Xq0"
      },
      "execution_count": null,
      "outputs": []
    },
    {
      "cell_type": "markdown",
      "source": [
        "### Split the data into training and testing sets"
      ],
      "metadata": {
        "id": "fF5d3CQG6grU"
      }
    },
    {
      "cell_type": "code",
      "source": [
        "train_size = int(len(scaled_data) * 0.8)  # 80% for training\n",
        "train_data = scaled_data[:train_size]\n",
        "test_data = scaled_data[train_size:]\n"
      ],
      "metadata": {
        "id": "nAgNC-xx6jje"
      },
      "execution_count": null,
      "outputs": []
    },
    {
      "cell_type": "markdown",
      "source": [
        " ### Create the LSTM model architecture"
      ],
      "metadata": {
        "id": "kWuLqDVe6thE"
      }
    },
    {
      "cell_type": "code",
      "source": [
        "model = Sequential()\n",
        "model.add(LSTM(units=50, return_sequences=True, input_shape=(1, 1)))\n",
        "model.add(LSTM(units=50))\n",
        "model.add(Dense(units=1))\n"
      ],
      "metadata": {
        "id": "0TNq8g6I6zA2"
      },
      "execution_count": null,
      "outputs": []
    },
    {
      "cell_type": "markdown",
      "source": [
        "### Compile and train the model"
      ],
      "metadata": {
        "id": "I7J_B2Y36-BU"
      }
    },
    {
      "cell_type": "code",
      "source": [
        "model.compile(optimizer='adam', loss='mean_squared_error')\n",
        "Model = model.fit(train_data[:-1], train_data[1:], epochs=10, batch_size=1)\n"
      ],
      "metadata": {
        "colab": {
          "base_uri": "https://localhost:8080/"
        },
        "id": "oerlBdNF7FG8",
        "outputId": "0f42c555-b19f-4630-80ac-c91bd4c7d238"
      },
      "execution_count": null,
      "outputs": [
        {
          "output_type": "stream",
          "name": "stdout",
          "text": [
            "Epoch 1/10\n",
            "4723/4723 [==============================] - 26s 5ms/step - loss: 7.8594e-04\n",
            "Epoch 2/10\n",
            "4723/4723 [==============================] - 24s 5ms/step - loss: 3.7371e-05\n",
            "Epoch 3/10\n",
            "4723/4723 [==============================] - 24s 5ms/step - loss: 3.8545e-05\n",
            "Epoch 4/10\n",
            "4723/4723 [==============================] - 22s 5ms/step - loss: 3.5758e-05\n",
            "Epoch 5/10\n",
            "4723/4723 [==============================] - 22s 5ms/step - loss: 3.4326e-05\n",
            "Epoch 6/10\n",
            "4723/4723 [==============================] - 22s 5ms/step - loss: 3.2427e-05\n",
            "Epoch 7/10\n",
            "4723/4723 [==============================] - 21s 4ms/step - loss: 3.3122e-05\n",
            "Epoch 8/10\n",
            "4723/4723 [==============================] - 20s 4ms/step - loss: 3.0110e-05\n",
            "Epoch 9/10\n",
            "4723/4723 [==============================] - 21s 4ms/step - loss: 3.2620e-05\n",
            "Epoch 10/10\n",
            "4723/4723 [==============================] - 21s 4ms/step - loss: 3.0278e-05\n"
          ]
        }
      ]
    },
    {
      "cell_type": "markdown",
      "source": [
        "### Generate stock price predictions"
      ],
      "metadata": {
        "id": "TkQa1qif8BH9"
      }
    },
    {
      "cell_type": "code",
      "source": [
        "# Plot the predicted prices\n",
        "plt.plot(data.index[train_size+1:], data['Close'].values[train_size+1:], label='Actual Prices')\n",
        "plt.plot(data.index[train_size+1:], predicted_prices, label='Predicted Prices')\n",
        "plt.xlabel('Date')\n",
        "plt.ylabel('Stock Price')\n",
        "plt.title('Stock Price Prediction')\n",
        "plt.legend()\n",
        "plt.show()\n"
      ],
      "metadata": {
        "colab": {
          "base_uri": "https://localhost:8080/",
          "height": 793
        },
        "id": "hdwFAIlx99_4",
        "outputId": "aba14bea-f3f1-4944-fc88-4f82ef260214"
      },
      "execution_count": null,
      "outputs": [
        {
          "output_type": "error",
          "ename": "ValueError",
          "evalue": "ignored",
          "traceback": [
            "\u001b[0;31m---------------------------------------------------------------------------\u001b[0m",
            "\u001b[0;31mValueError\u001b[0m                                Traceback (most recent call last)",
            "\u001b[0;32m<ipython-input-71-3e649ef87300>\u001b[0m in \u001b[0;36m<cell line: 3>\u001b[0;34m()\u001b[0m\n\u001b[1;32m      1\u001b[0m \u001b[0;31m# Plot the predicted prices\u001b[0m\u001b[0;34m\u001b[0m\u001b[0;34m\u001b[0m\u001b[0m\n\u001b[1;32m      2\u001b[0m \u001b[0mplt\u001b[0m\u001b[0;34m.\u001b[0m\u001b[0mplot\u001b[0m\u001b[0;34m(\u001b[0m\u001b[0mdata\u001b[0m\u001b[0;34m.\u001b[0m\u001b[0mindex\u001b[0m\u001b[0;34m[\u001b[0m\u001b[0mtrain_size\u001b[0m\u001b[0;34m+\u001b[0m\u001b[0;36m1\u001b[0m\u001b[0;34m:\u001b[0m\u001b[0;34m]\u001b[0m\u001b[0;34m,\u001b[0m \u001b[0mdata\u001b[0m\u001b[0;34m[\u001b[0m\u001b[0;34m'Close'\u001b[0m\u001b[0;34m]\u001b[0m\u001b[0;34m.\u001b[0m\u001b[0mvalues\u001b[0m\u001b[0;34m[\u001b[0m\u001b[0mtrain_size\u001b[0m\u001b[0;34m+\u001b[0m\u001b[0;36m1\u001b[0m\u001b[0;34m:\u001b[0m\u001b[0;34m]\u001b[0m\u001b[0;34m,\u001b[0m \u001b[0mlabel\u001b[0m\u001b[0;34m=\u001b[0m\u001b[0;34m'Actual Prices'\u001b[0m\u001b[0;34m)\u001b[0m\u001b[0;34m\u001b[0m\u001b[0;34m\u001b[0m\u001b[0m\n\u001b[0;32m----> 3\u001b[0;31m \u001b[0mplt\u001b[0m\u001b[0;34m.\u001b[0m\u001b[0mplot\u001b[0m\u001b[0;34m(\u001b[0m\u001b[0mdata\u001b[0m\u001b[0;34m.\u001b[0m\u001b[0mindex\u001b[0m\u001b[0;34m[\u001b[0m\u001b[0mtrain_size\u001b[0m\u001b[0;34m+\u001b[0m\u001b[0;36m1\u001b[0m\u001b[0;34m:\u001b[0m\u001b[0;34m]\u001b[0m\u001b[0;34m,\u001b[0m \u001b[0mpredicted_prices\u001b[0m\u001b[0;34m,\u001b[0m \u001b[0mlabel\u001b[0m\u001b[0;34m=\u001b[0m\u001b[0;34m'Predicted Prices'\u001b[0m\u001b[0;34m)\u001b[0m\u001b[0;34m\u001b[0m\u001b[0;34m\u001b[0m\u001b[0m\n\u001b[0m\u001b[1;32m      4\u001b[0m \u001b[0mplt\u001b[0m\u001b[0;34m.\u001b[0m\u001b[0mxlabel\u001b[0m\u001b[0;34m(\u001b[0m\u001b[0;34m'Date'\u001b[0m\u001b[0;34m)\u001b[0m\u001b[0;34m\u001b[0m\u001b[0;34m\u001b[0m\u001b[0m\n\u001b[1;32m      5\u001b[0m \u001b[0mplt\u001b[0m\u001b[0;34m.\u001b[0m\u001b[0mylabel\u001b[0m\u001b[0;34m(\u001b[0m\u001b[0;34m'Stock Price'\u001b[0m\u001b[0;34m)\u001b[0m\u001b[0;34m\u001b[0m\u001b[0;34m\u001b[0m\u001b[0m\n",
            "\u001b[0;32m/usr/local/lib/python3.10/dist-packages/matplotlib/pyplot.py\u001b[0m in \u001b[0;36mplot\u001b[0;34m(scalex, scaley, data, *args, **kwargs)\u001b[0m\n\u001b[1;32m   2810\u001b[0m \u001b[0;34m@\u001b[0m\u001b[0m_copy_docstring_and_deprecators\u001b[0m\u001b[0;34m(\u001b[0m\u001b[0mAxes\u001b[0m\u001b[0;34m.\u001b[0m\u001b[0mplot\u001b[0m\u001b[0;34m)\u001b[0m\u001b[0;34m\u001b[0m\u001b[0;34m\u001b[0m\u001b[0m\n\u001b[1;32m   2811\u001b[0m \u001b[0;32mdef\u001b[0m \u001b[0mplot\u001b[0m\u001b[0;34m(\u001b[0m\u001b[0;34m*\u001b[0m\u001b[0margs\u001b[0m\u001b[0;34m,\u001b[0m \u001b[0mscalex\u001b[0m\u001b[0;34m=\u001b[0m\u001b[0;32mTrue\u001b[0m\u001b[0;34m,\u001b[0m \u001b[0mscaley\u001b[0m\u001b[0;34m=\u001b[0m\u001b[0;32mTrue\u001b[0m\u001b[0;34m,\u001b[0m \u001b[0mdata\u001b[0m\u001b[0;34m=\u001b[0m\u001b[0;32mNone\u001b[0m\u001b[0;34m,\u001b[0m \u001b[0;34m**\u001b[0m\u001b[0mkwargs\u001b[0m\u001b[0;34m)\u001b[0m\u001b[0;34m:\u001b[0m\u001b[0;34m\u001b[0m\u001b[0;34m\u001b[0m\u001b[0m\n\u001b[0;32m-> 2812\u001b[0;31m     return gca().plot(\n\u001b[0m\u001b[1;32m   2813\u001b[0m         \u001b[0;34m*\u001b[0m\u001b[0margs\u001b[0m\u001b[0;34m,\u001b[0m \u001b[0mscalex\u001b[0m\u001b[0;34m=\u001b[0m\u001b[0mscalex\u001b[0m\u001b[0;34m,\u001b[0m \u001b[0mscaley\u001b[0m\u001b[0;34m=\u001b[0m\u001b[0mscaley\u001b[0m\u001b[0;34m,\u001b[0m\u001b[0;34m\u001b[0m\u001b[0;34m\u001b[0m\u001b[0m\n\u001b[1;32m   2814\u001b[0m         **({\"data\": data} if data is not None else {}), **kwargs)\n",
            "\u001b[0;32m/usr/local/lib/python3.10/dist-packages/matplotlib/axes/_axes.py\u001b[0m in \u001b[0;36mplot\u001b[0;34m(self, scalex, scaley, data, *args, **kwargs)\u001b[0m\n\u001b[1;32m   1686\u001b[0m         \"\"\"\n\u001b[1;32m   1687\u001b[0m         \u001b[0mkwargs\u001b[0m \u001b[0;34m=\u001b[0m \u001b[0mcbook\u001b[0m\u001b[0;34m.\u001b[0m\u001b[0mnormalize_kwargs\u001b[0m\u001b[0;34m(\u001b[0m\u001b[0mkwargs\u001b[0m\u001b[0;34m,\u001b[0m \u001b[0mmlines\u001b[0m\u001b[0;34m.\u001b[0m\u001b[0mLine2D\u001b[0m\u001b[0;34m)\u001b[0m\u001b[0;34m\u001b[0m\u001b[0;34m\u001b[0m\u001b[0m\n\u001b[0;32m-> 1688\u001b[0;31m         \u001b[0mlines\u001b[0m \u001b[0;34m=\u001b[0m \u001b[0;34m[\u001b[0m\u001b[0;34m*\u001b[0m\u001b[0mself\u001b[0m\u001b[0;34m.\u001b[0m\u001b[0m_get_lines\u001b[0m\u001b[0;34m(\u001b[0m\u001b[0;34m*\u001b[0m\u001b[0margs\u001b[0m\u001b[0;34m,\u001b[0m \u001b[0mdata\u001b[0m\u001b[0;34m=\u001b[0m\u001b[0mdata\u001b[0m\u001b[0;34m,\u001b[0m \u001b[0;34m**\u001b[0m\u001b[0mkwargs\u001b[0m\u001b[0;34m)\u001b[0m\u001b[0;34m]\u001b[0m\u001b[0;34m\u001b[0m\u001b[0;34m\u001b[0m\u001b[0m\n\u001b[0m\u001b[1;32m   1689\u001b[0m         \u001b[0;32mfor\u001b[0m \u001b[0mline\u001b[0m \u001b[0;32min\u001b[0m \u001b[0mlines\u001b[0m\u001b[0;34m:\u001b[0m\u001b[0;34m\u001b[0m\u001b[0;34m\u001b[0m\u001b[0m\n\u001b[1;32m   1690\u001b[0m             \u001b[0mself\u001b[0m\u001b[0;34m.\u001b[0m\u001b[0madd_line\u001b[0m\u001b[0;34m(\u001b[0m\u001b[0mline\u001b[0m\u001b[0;34m)\u001b[0m\u001b[0;34m\u001b[0m\u001b[0;34m\u001b[0m\u001b[0m\n",
            "\u001b[0;32m/usr/local/lib/python3.10/dist-packages/matplotlib/axes/_base.py\u001b[0m in \u001b[0;36m__call__\u001b[0;34m(self, data, *args, **kwargs)\u001b[0m\n\u001b[1;32m    309\u001b[0m                 \u001b[0mthis\u001b[0m \u001b[0;34m+=\u001b[0m \u001b[0margs\u001b[0m\u001b[0;34m[\u001b[0m\u001b[0;36m0\u001b[0m\u001b[0;34m]\u001b[0m\u001b[0;34m,\u001b[0m\u001b[0;34m\u001b[0m\u001b[0;34m\u001b[0m\u001b[0m\n\u001b[1;32m    310\u001b[0m                 \u001b[0margs\u001b[0m \u001b[0;34m=\u001b[0m \u001b[0margs\u001b[0m\u001b[0;34m[\u001b[0m\u001b[0;36m1\u001b[0m\u001b[0;34m:\u001b[0m\u001b[0;34m]\u001b[0m\u001b[0;34m\u001b[0m\u001b[0;34m\u001b[0m\u001b[0m\n\u001b[0;32m--> 311\u001b[0;31m             yield from self._plot_args(\n\u001b[0m\u001b[1;32m    312\u001b[0m                 this, kwargs, ambiguous_fmt_datakey=ambiguous_fmt_datakey)\n\u001b[1;32m    313\u001b[0m \u001b[0;34m\u001b[0m\u001b[0m\n",
            "\u001b[0;32m/usr/local/lib/python3.10/dist-packages/matplotlib/axes/_base.py\u001b[0m in \u001b[0;36m_plot_args\u001b[0;34m(self, tup, kwargs, return_kwargs, ambiguous_fmt_datakey)\u001b[0m\n\u001b[1;32m    502\u001b[0m \u001b[0;34m\u001b[0m\u001b[0m\n\u001b[1;32m    503\u001b[0m         \u001b[0;32mif\u001b[0m \u001b[0mx\u001b[0m\u001b[0;34m.\u001b[0m\u001b[0mshape\u001b[0m\u001b[0;34m[\u001b[0m\u001b[0;36m0\u001b[0m\u001b[0;34m]\u001b[0m \u001b[0;34m!=\u001b[0m \u001b[0my\u001b[0m\u001b[0;34m.\u001b[0m\u001b[0mshape\u001b[0m\u001b[0;34m[\u001b[0m\u001b[0;36m0\u001b[0m\u001b[0;34m]\u001b[0m\u001b[0;34m:\u001b[0m\u001b[0;34m\u001b[0m\u001b[0;34m\u001b[0m\u001b[0m\n\u001b[0;32m--> 504\u001b[0;31m             raise ValueError(f\"x and y must have same first dimension, but \"\n\u001b[0m\u001b[1;32m    505\u001b[0m                              f\"have shapes {x.shape} and {y.shape}\")\n\u001b[1;32m    506\u001b[0m         \u001b[0;32mif\u001b[0m \u001b[0mx\u001b[0m\u001b[0;34m.\u001b[0m\u001b[0mndim\u001b[0m \u001b[0;34m>\u001b[0m \u001b[0;36m2\u001b[0m \u001b[0;32mor\u001b[0m \u001b[0my\u001b[0m\u001b[0;34m.\u001b[0m\u001b[0mndim\u001b[0m \u001b[0;34m>\u001b[0m \u001b[0;36m2\u001b[0m\u001b[0;34m:\u001b[0m\u001b[0;34m\u001b[0m\u001b[0;34m\u001b[0m\u001b[0m\n",
            "\u001b[0;31mValueError\u001b[0m: x and y must have same first dimension, but have shapes (1180,) and (0,)"
          ]
        },
        {
          "output_type": "display_data",
          "data": {
            "text/plain": [
              "<Figure size 640x480 with 1 Axes>"
            ],
            "image/png": "[encoded data removed]"
          },
          "metadata": {}
        }
      ]
    },
    {
      "cell_type": "markdown",
      "source": [
        "### Forcasting"
      ],
      "metadata": {
        "id": "ZIRzNuKABF2Q"
      }
    },
    {
      "cell_type": "code",
      "source": [
        "def mean_absolute_percentage_error(y_true, y_pred):\n",
        "    return np.mean(np.abs((y_true - y_pred) / y_true)) * 100"
      ],
      "metadata": {
        "id": "9Zx_hcjXCZyW"
      },
      "execution_count": null,
      "outputs": []
    },
    {
      "cell_type": "code",
      "source": [
        "# Generate forecasts for the test set\n",
        "forecast = model.predict(test_data)\n",
        "\n",
        "# Calculate the accuracy metrics\n",
        "mse = mean_squared_error(test_data, forecast)\n",
        "mae = mean_absolute_error(test_data, forecast)\n",
        "rmse = np.sqrt(mse)\n",
        "mape = mean_absolute_percentage_error(test_data, forecast)\n",
        "\n",
        "# Print the accuracy metrics\n",
        "print(\"Mean Squared Error (MSE): \", mse)\n",
        "print(\"Mean Absolute Error (MAE): \", mae)\n",
        "print(\"Root Mean Squared Error (RMSE): \", rmse)\n",
        "print(\"Mean Absolute Percentage Error (MAPE): \", mape)\n"
      ],
      "metadata": {
        "colab": {
          "base_uri": "https://localhost:8080/"
        },
        "id": "2GNXqSS2BFI3",
        "outputId": "59b77f9f-8184-45c7-ee12-fd64e9dd0d6f"
      },
      "execution_count": null,
      "outputs": [
        {
          "output_type": "stream",
          "name": "stdout",
          "text": [
            "37/37 [==============================] - 1s 3ms/step\n",
            "Mean Squared Error (MSE):  0.001306872452071084\n",
            "Mean Absolute Error (MAE):  0.028433606549379643\n",
            "Root Mean Squared Error (RMSE):  0.03615069089341287\n",
            "Mean Absolute Percentage Error (MAPE):  3.4793157994015367\n"
          ]
        }
      ]
    },
    {
      "cell_type": "markdown",
      "source": [
        "The Mean Absolute Percentage Error (MAPE) is 3.48%. The accuracy of the model can be interpreted as the average percentage error in the predictions, which is 3.48% in this case. This means that, on average, the model's predictions deviate from the actual values by approximately 3.48%.\n",
        "\n",
        "The accuracy metrics for the model are as follows:\n",
        "\n",
        "Mean Squared Error (MSE):  0.001306872452071084\n",
        "Mean Absolute Error (MAE):  0.028433606549379643\n",
        "Root Mean Squared Error (RMSE):  0.03615069089341287\n",
        "Mean Absolute Percentage Error (MAPE):  3.4793157994015367\n",
        "\n",
        "Therefore, the accuracy of the model is 96.52%."
      ],
      "metadata": {
        "id": "QMNaA0dPEeU3"
      }
    },
    {
      "cell_type": "code",
      "source": [
        "import matplotlib.pyplot as plt\n",
        "\n",
        "# Generate x-values for plotting\n",
        "x_values = range(len(test_data))\n",
        "\n",
        "# Plot the forecasted values and actual values\n",
        "plt.figure(figsize=(12, 6))\n",
        "plt.plot(x_values, test_data, label='Actual')\n",
        "plt.plot(x_values, forecast, label='Forecast')\n",
        "\n",
        "# Add the MAPE as a text annotation\n",
        "plt.annotate(f\"MAPE: {mape:.2f}%\", xy=(x_values[0], max(test_data)), xycoords='data', fontsize=12)\n",
        "\n",
        "# Customize the plot\n",
        "plt.xlabel('Time')\n",
        "plt.ylabel('Stock Price')\n",
        "plt.title('Stock Price Forecast')\n",
        "plt.legend()\n",
        "\n",
        "# Set the axis limits\n",
        "plt.xlim(0, len(test_data)-1)\n",
        "plt.ylim(min(min(test_data), min(forecast)), max(max(test_data), max(forecast)))\n",
        "\n",
        "# Show the plot\n",
        "plt.show()\n"
      ],
      "metadata": {
        "colab": {
          "base_uri": "https://localhost:8080/",
          "height": 564
        },
        "id": "GOQeAQ4oE_w4",
        "outputId": "15c2c15a-1709-4161-c7ee-6ab94c56d2d2"
      },
      "execution_count": null,
      "outputs": [
        {
          "output_type": "display_data",
          "data": {
            "text/plain": [
              "<Figure size 1200x600 with 1 Axes>"
            ],
            "image/png": "[encoded data removed]"
          },
          "metadata": {}
        }
      ]
    },
    {
      "cell_type": "markdown",
      "source": [
        "## Prediction\n",
        "\n",
        "Select the relevant columns from the \"data\" DataFrame using the \"Close\" column for predicting the stock price."
      ],
      "metadata": {
        "id": "zs72f2m2ZBpJ"
      }
    },
    {
      "cell_type": "code",
      "source": [
        "input_data = data[\"Close\"]\n"
      ],
      "metadata": {
        "id": "RtLS8z0gTL6q"
      },
      "execution_count": null,
      "outputs": []
    },
    {
      "cell_type": "markdown",
      "source": [
        "Normalize the input data to ensure that all values fall within a similar range. This step is important for improving the convergence and performance of the LSTM model. The normalization techniques, such as Min-Max scaling or Standardization. Here's an example of using Min-Max scaling:"
      ],
      "metadata": {
        "id": "7xICuA3_ZoPn"
      }
    },
    {
      "cell_type": "code",
      "source": [
        "from sklearn.preprocessing import MinMaxScaler\n",
        "\n",
        "scaler = MinMaxScaler()\n",
        "input_data = scaler.fit_transform(input_data.values.reshape(-1, 1))\n"
      ],
      "metadata": {
        "id": "rhcpKZJ8Zwvp"
      },
      "execution_count": null,
      "outputs": []
    },
    {
      "cell_type": "markdown",
      "source": [
        "Reshape the input data to match the expected input shape of the LSTM model. LSTM models typically expect input in the shape of a 3D array with dimensions (samples, timesteps, features). In this case, assuming I am using a single feature (Close price) and a specific number of previous time steps (e.g., 1 days) for each prediction, you can reshape the input data as follows:"
      ],
      "metadata": {
        "id": "Klvv8e28Z6Sw"
      }
    },
    {
      "cell_type": "code",
      "source": [
        "timesteps = 1\n",
        "features = 1  # using a single feature (Close price)\n",
        "\n",
        "# Reshape the input data into a 3D array\n",
        "input_data = input_data.reshape(-1, timesteps, features)\n"
      ],
      "metadata": {
        "id": "dCjcLRs_ZzaY"
      },
      "execution_count": null,
      "outputs": []
    },
    {
      "cell_type": "markdown",
      "source": [
        "To use the trained LSTM model to predict stock prices for future days. Lets predict stock prices for the next 15 days.:"
      ],
      "metadata": {
        "id": "4o8jLyvRbBSo"
      }
    },
    {
      "cell_type": "code",
      "source": [
        "future_days = 15\n"
      ],
      "metadata": {
        "id": "hRTn6HR6bLzn"
      },
      "execution_count": null,
      "outputs": []
    },
    {
      "cell_type": "markdown",
      "source": [
        "Use the trained LSTM model to make predictions for the specified number of future days. Lets call the model.predict() method and provide the input data for the future days.\n",
        "\n",
        "**First The \"Lookbackwindow\"** The lookback_window represents the number of previous time steps or periods that your LSTM model uses as input to make predictions. It should be defined and set based on the specific requirements and configuration of your LSTM model.\n",
        "\n",
        "You need to determine an appropriate value for lookback_window depending on the time dependency you want to capture in your LSTM model. It could be a hyperparameter that you define before training the model. Common values for lookback_window are in the range of 10 to 100, but the optimal value depends on the characteristics of your data.\n",
        "\n",
        "Make sure to define and assign a value to lookback_window before using it in the code snippet. For example, you can set it to 30 or 300."
      ],
      "metadata": {
        "id": "GAsBTQQSb0Ug"
      }
    },
    {
      "cell_type": "code",
      "source": [
        "lookback_window = 30\n"
      ],
      "metadata": {
        "id": "qCzCjUN1eKX5"
      },
      "execution_count": null,
      "outputs": []
    },
    {
      "cell_type": "markdown",
      "source": [
        "**Second the num_features** variable represents the number of features or input variables used in your LSTM model. In the context of predicting stock prices, it is typically 1 because we only consider the historical stock price as the input."
      ],
      "metadata": {
        "id": "-XekNKPDeopC"
      }
    },
    {
      "cell_type": "code",
      "source": [
        "num_features = 1\n"
      ],
      "metadata": {
        "id": "mqBXtkVRe-Cy"
      },
      "execution_count": null,
      "outputs": []
    },
    {
      "cell_type": "code",
      "source": [
        "predicted_prices = []\n",
        "for i in range(future_days):\n",
        "    # Get the input data for the current step\n",
        "    input_data_step = input_data[-lookback_window:]\n",
        "\n",
        "    # Make a prediction for the current step\n",
        "    prediction = model.predict(input_data_step.reshape(1, lookback_window, num_features))\n",
        "\n",
        "    # Append the predicted price to the list\n",
        "    predicted_prices.append(prediction[0])\n",
        "\n",
        "    # Update the input data by shifting it and adding the predicted price\n",
        "    input_data = np.roll(input_data, -1)\n",
        "    input_data[-1] = prediction[0]\n",
        "\n",
        "predicted_prices = np.array(predicted_prices)\n"
      ],
      "metadata": {
        "id": "5mo5KAyJdSlf"
      },
      "execution_count": null,
      "outputs": []
    },
    {
      "cell_type": "code",
      "source": [
        "model.summary()"
      ],
      "metadata": {
        "colab": {
          "base_uri": "https://localhost:8080/"
        },
        "id": "wfDcLSNjlh1Y",
        "outputId": "cb65748f-cbdd-4864-f69b-e013f3d2cd8f"
      },
      "execution_count": null,
      "outputs": [
        {
          "output_type": "stream",
          "name": "stdout",
          "text": [
            "Model: \"sequential_2\"\n",
            "_________________________________________________________________\n",
            " Layer (type)                Output Shape              Param #   \n",
            "=================================================================\n",
            " lstm_4 (LSTM)               (None, 1, 50)             10400     \n",
            "                                                                 \n",
            " lstm_5 (LSTM)               (None, 50)                20200     \n",
            "                                                                 \n",
            " dense_2 (Dense)             (None, 1)                 51        \n",
            "                                                                 \n",
            "=================================================================\n",
            "Total params: 30,651\n",
            "Trainable params: 30,651\n",
            "Non-trainable params: 0\n",
            "_________________________________________________________________\n"
          ]
        }
      ]
    },
    {
      "cell_type": "code",
      "source": [
        "model.get_config()"
      ],
      "metadata": {
        "colab": {
          "base_uri": "https://localhost:8080/"
        },
        "id": "sh3249lilkT7",
        "outputId": "a2919bea-68e7-41e8-aae1-71a80c590b90"
      },
      "execution_count": null,
      "outputs": [
        {
          "output_type": "execute_result",
          "data": {
            "text/plain": [
              "{'name': 'sequential_2',\n",
              " 'layers': [{'class_name': 'InputLayer',\n",
              "   'config': {'batch_input_shape': (None, 1, 1),\n",
              "    'dtype': 'float32',\n",
              "    'sparse': False,\n",
              "    'ragged': False,\n",
              "    'name': 'lstm_4_input'}},\n",
              "  {'class_name': 'LSTM',\n",
              "   'config': {'name': 'lstm_4',\n",
              "    'trainable': True,\n",
              "    'dtype': 'float32',\n",
              "    'batch_input_shape': (None, 1, 1),\n",
              "    'return_sequences': True,\n",
              "    'return_state': False,\n",
              "    'go_backwards': False,\n",
              "    'stateful': False,\n",
              "    'unroll': False,\n",
              "    'time_major': False,\n",
              "    'units': 50,\n",
              "    'activation': 'tanh',\n",
              "    'recurrent_activation': 'sigmoid',\n",
              "    'use_bias': True,\n",
              "    'kernel_initializer': {'class_name': 'GlorotUniform',\n",
              "     'config': {'seed': None}},\n",
              "    'recurrent_initializer': {'class_name': 'Orthogonal',\n",
              "     'config': {'gain': 1.0, 'seed': None}},\n",
              "    'bias_initializer': {'class_name': 'Zeros', 'config': {}},\n",
              "    'unit_forget_bias': True,\n",
              "    'kernel_regularizer': None,\n",
              "    'recurrent_regularizer': None,\n",
              "    'bias_regularizer': None,\n",
              "    'activity_regularizer': None,\n",
              "    'kernel_constraint': None,\n",
              "    'recurrent_constraint': None,\n",
              "    'bias_constraint': None,\n",
              "    'dropout': 0.0,\n",
              "    'recurrent_dropout': 0.0,\n",
              "    'implementation': 2}},\n",
              "  {'class_name': 'LSTM',\n",
              "   'config': {'name': 'lstm_5',\n",
              "    'trainable': True,\n",
              "    'dtype': 'float32',\n",
              "    'return_sequences': False,\n",
              "    'return_state': False,\n",
              "    'go_backwards': False,\n",
              "    'stateful': False,\n",
              "    'unroll': False,\n",
              "    'time_major': False,\n",
              "    'units': 50,\n",
              "    'activation': 'tanh',\n",
              "    'recurrent_activation': 'sigmoid',\n",
              "    'use_bias': True,\n",
              "    'kernel_initializer': {'class_name': 'GlorotUniform',\n",
              "     'config': {'seed': None}},\n",
              "    'recurrent_initializer': {'class_name': 'Orthogonal',\n",
              "     'config': {'gain': 1.0, 'seed': None}},\n",
              "    'bias_initializer': {'class_name': 'Zeros', 'config': {}},\n",
              "    'unit_forget_bias': True,\n",
              "    'kernel_regularizer': None,\n",
              "    'recurrent_regularizer': None,\n",
              "    'bias_regularizer': None,\n",
              "    'activity_regularizer': None,\n",
              "    'kernel_constraint': None,\n",
              "    'recurrent_constraint': None,\n",
              "    'bias_constraint': None,\n",
              "    'dropout': 0.0,\n",
              "    'recurrent_dropout': 0.0,\n",
              "    'implementation': 2}},\n",
              "  {'class_name': 'Dense',\n",
              "   'config': {'name': 'dense_2',\n",
              "    'trainable': True,\n",
              "    'dtype': 'float32',\n",
              "    'units': 1,\n",
              "    'activation': 'linear',\n",
              "    'use_bias': True,\n",
              "    'kernel_initializer': {'class_name': 'GlorotUniform',\n",
              "     'config': {'seed': None}},\n",
              "    'bias_initializer': {'class_name': 'Zeros', 'config': {}},\n",
              "    'kernel_regularizer': None,\n",
              "    'bias_regularizer': None,\n",
              "    'activity_regularizer': None,\n",
              "    'kernel_constraint': None,\n",
              "    'bias_constraint': None}}]}"
            ]
          },
          "metadata": {},
          "execution_count": 76
        }
      ]
    },
    {
      "cell_type": "code",
      "source": [
        "model.layers"
      ],
      "metadata": {
        "colab": {
          "base_uri": "https://localhost:8080/"
        },
        "id": "XbGL-zIhlzPz",
        "outputId": "b52d653b-b45f-49e1-ad48-3b13a8969177"
      },
      "execution_count": null,
      "outputs": [
        {
          "output_type": "execute_result",
          "data": {
            "text/plain": [
              "[<keras.layers.rnn.lstm.LSTM at 0x7fed8463f610>,\n",
              " <keras.layers.rnn.lstm.LSTM at 0x7fed85173790>,\n",
              " <keras.layers.core.dense.Dense at 0x7fed8c76dff0>]"
            ]
          },
          "metadata": {},
          "execution_count": 77
        }
      ]
    },
    {
      "cell_type": "code",
      "source": [
        "model.get_weights()"
      ],
      "metadata": {
        "colab": {
          "base_uri": "https://localhost:8080/"
        },
        "id": "yg3CTMoql7oy",
        "outputId": "5ecdde8b-30e4-44b7-f52c-d5c3222627f9"
      },
      "execution_count": null,
      "outputs": [
        {
          "output_type": "execute_result",
          "data": {
            "text/plain": [
              "[array([[ 6.57083988e-02, -2.59673089e-01, -5.69290102e-01,\n",
              "          1.88941266e-02,  5.81152663e-02, -3.93260151e-01,\n",
              "          2.51935035e-01,  1.74745470e-01,  1.60101756e-01,\n",
              "          2.57946879e-01,  3.29894394e-01,  2.67008692e-01,\n",
              "         -1.56448304e-03, -1.92468107e-01, -1.42706102e-02,\n",
              "          1.31120279e-01,  2.17375219e-01, -2.23925218e-01,\n",
              "          1.96794897e-01,  3.33560333e-02,  1.07748108e-03,\n",
              "         -4.71700549e-01,  1.04481950e-01, -3.66648465e-01,\n",
              "         -5.84989369e-01, -2.46752992e-01,  2.41445154e-01,\n",
              "         -2.22532123e-01,  7.17531145e-02,  6.25758544e-02,\n",
              "          8.19116980e-02,  1.94140815e-03,  2.27668639e-02,\n",
              "         -8.54065716e-01, -1.60604209e-01,  1.00767024e-01,\n",
              "         -3.07891339e-01,  2.10335314e-01,  3.41578841e-01,\n",
              "         -2.24771082e-01,  2.19489887e-01, -1.96629554e-01,\n",
              "         -1.30575318e-02, -4.29283381e-01,  1.18165083e-01,\n",
              "          7.30223209e-02, -1.06625594e-01, -7.66257718e-02,\n",
              "          1.26073137e-01, -3.01119894e-01, -1.64243639e-01,\n",
              "         -2.81451941e-02, -5.23124412e-02,  9.98491645e-02,\n",
              "          1.14386231e-01, -5.43038547e-02,  8.49667490e-02,\n",
              "         -1.65268630e-02, -1.30373999e-01,  1.16095245e-02,\n",
              "          3.34765315e-02,  1.69488668e-01,  5.50627708e-03,\n",
              "          1.08221799e-01, -1.04600422e-01, -2.29428411e-02,\n",
              "          4.16031480e-03,  2.77968347e-02, -1.61929116e-01,\n",
              "         -1.17879301e-01,  1.14786476e-01,  4.27614748e-02,\n",
              "          6.33676797e-02, -3.96820158e-02,  2.25508213e-03,\n",
              "          1.54773235e-01, -6.23423159e-02,  4.70312834e-02,\n",
              "          9.35397446e-02, -3.97564471e-03, -1.39213532e-01,\n",
              "          1.08237743e-01,  1.10151321e-01, -7.30594397e-02,\n",
              "         -3.30637395e-02,  1.44338906e-01, -1.45585552e-01,\n",
              "          4.92236614e-02, -8.49177539e-02, -6.41211271e-02,\n",
              "          2.62630731e-02,  1.36473089e-01, -9.25923660e-02,\n",
              "          3.35616767e-02,  1.05374873e-01,  8.99573267e-02,\n",
              "          2.92676091e-02, -4.98296320e-03, -1.38726309e-01,\n",
              "          8.55810344e-02, -4.71855193e-01, -1.25186890e-03,\n",
              "         -3.76058459e-01,  1.06115164e-02, -3.56153607e-01,\n",
              "          3.77666771e-01,  3.65380138e-01,  4.23145831e-01,\n",
              "          3.56678069e-01, -4.18010116e-01, -4.40332383e-01,\n",
              "          4.21728611e-01, -3.82550985e-01, -6.09604223e-03,\n",
              "          4.05157626e-01,  2.76353806e-01, -3.11971784e-01,\n",
              "         -2.63698190e-03,  3.33373398e-01, -4.50972915e-01,\n",
              "         -4.48478371e-01,  3.78262311e-01,  3.66457522e-01,\n",
              "         -3.70203346e-01, -9.75191302e-04,  1.54132606e-04,\n",
              "          3.56073111e-01, -4.01933253e-01,  2.29356825e-01,\n",
              "          1.89780712e-01, -3.02291781e-01, -4.07513648e-01,\n",
              "          3.58107388e-01,  5.54758881e-04, -4.55723405e-01,\n",
              "          4.53009665e-01,  1.25868917e-01,  3.41353148e-01,\n",
              "         -4.63026643e-01, -2.23807967e-03,  4.60744739e-01,\n",
              "         -3.79741073e-01,  1.14276618e-01,  3.98333311e-01,\n",
              "          3.80310297e-01, -3.38839024e-01,  4.28144425e-01,\n",
              "         -1.99708063e-03, -3.32582384e-01, -1.46552036e-03,\n",
              "          5.00243492e-02, -1.92488030e-01, -5.90687990e-01,\n",
              "         -4.36845198e-02,  1.38665676e-01, -3.45089883e-01,\n",
              "          2.67559409e-01,  1.78740978e-01,  9.47852433e-03,\n",
              "          2.16882512e-01,  3.13410491e-01,  3.25761467e-01,\n",
              "          1.51992425e-01, -3.29969451e-02,  2.55774349e-01,\n",
              "          1.77235305e-01,  1.60220474e-01, -2.66792983e-01,\n",
              "          1.33868247e-01,  3.38539928e-01, -8.43521953e-03,\n",
              "         -2.15449959e-01,  1.07192546e-02, -3.08245033e-01,\n",
              "         -3.77555490e-01, -1.86077610e-01,  1.62754670e-01,\n",
              "         -2.18943298e-01, -6.24791123e-02,  4.43755277e-02,\n",
              "         -7.95371309e-02, -1.06759973e-01,  5.68944924e-02,\n",
              "         -7.53466010e-01, -1.60108477e-01,  3.65130186e-01,\n",
              "         -4.80512232e-02,  1.44851521e-01,  2.40332186e-01,\n",
              "         -2.21296817e-01,  1.27274737e-01, -1.65134400e-01,\n",
              "         -2.73195744e-01, -3.76016736e-01,  1.39639780e-01,\n",
              "          2.34162688e-01, -8.63484666e-02, -2.54035026e-01,\n",
              "         -7.83188790e-02, -1.02101669e-01]], dtype=float32),\n",
              " array([[ 0.07963407, -0.04459958, -0.04781881, ..., -0.0422313 ,\n",
              "          0.02068935,  0.01551363],\n",
              "        [-0.03350117,  0.00183511, -0.08021699, ..., -0.00203496,\n",
              "          0.05869376, -0.10400239],\n",
              "        [-0.04319439, -0.07669058, -0.01225686, ..., -0.00861618,\n",
              "         -0.03309643, -0.06187337],\n",
              "        ...,\n",
              "        [-0.06774029, -0.15272881,  0.07984437, ...,  0.0824224 ,\n",
              "          0.04983775,  0.01729263],\n",
              "        [ 0.06478079, -0.06310684, -0.049585  , ...,  0.08105551,\n",
              "         -0.03756024, -0.0448544 ],\n",
              "        [ 0.04288671, -0.03632963, -0.09264124, ..., -0.04529158,\n",
              "         -0.05641454, -0.02235525]], dtype=float32),\n",
              " array([ 2.2610454e-01, -4.6701834e-01,  8.7393425e-02, -4.2125255e-01,\n",
              "         2.2742050e-02,  1.3177556e-01,  4.2147372e-02,  8.0603942e-02,\n",
              "         9.6559878e-03,  7.8481831e-02,  9.2324510e-02,  8.2374312e-02,\n",
              "         5.0878555e-02, -4.4585329e-01,  7.4608617e-02, -9.3677171e-02,\n",
              "        -4.7650725e-02, -5.3495216e-01, -1.2570131e-02,  1.0129465e-01,\n",
              "         1.4356340e-01,  1.3379726e-01,  2.8696422e-02,  1.2932494e-01,\n",
              "        -5.8470470e-01, -5.5539638e-01,  1.9051345e-02,  1.2465571e-01,\n",
              "        -1.8600813e-01, -2.5163579e-01, -6.3413754e-02,  3.4582213e-01,\n",
              "         1.7020270e-02, -6.5702844e-01,  2.7521387e-01,  1.0900023e-01,\n",
              "        -3.7448177e-01, -2.3618131e-03,  1.0915487e-01, -5.4772210e-01,\n",
              "         2.2245616e-01,  1.7117959e-01, -3.8970777e-01,  1.8952206e-01,\n",
              "         5.0085250e-02, -3.9910604e-03,  2.2298802e-01, -5.0293767e-01,\n",
              "         3.9871521e-02, -5.1632857e-01,  1.0000000e+00,  1.0000000e+00,\n",
              "         1.0000000e+00,  1.0000000e+00,  1.0000000e+00,  1.0000000e+00,\n",
              "         1.0000000e+00,  1.0000000e+00,  1.0000000e+00,  1.0000000e+00,\n",
              "         1.0000000e+00,  1.0000000e+00,  1.0000000e+00,  1.0000000e+00,\n",
              "         1.0000000e+00,  1.0000000e+00,  1.0000000e+00,  1.0000000e+00,\n",
              "         1.0000000e+00,  1.0000000e+00,  1.0000000e+00,  1.0000000e+00,\n",
              "         1.0000000e+00,  1.0000000e+00,  1.0000000e+00,  1.0000000e+00,\n",
              "         1.0000000e+00,  1.0000000e+00,  1.0000000e+00,  1.0000000e+00,\n",
              "         1.0000000e+00,  1.0000000e+00,  1.0000000e+00,  1.0000000e+00,\n",
              "         1.0000000e+00,  1.0000000e+00,  1.0000000e+00,  1.0000000e+00,\n",
              "         1.0000000e+00,  1.0000000e+00,  1.0000000e+00,  1.0000000e+00,\n",
              "         1.0000000e+00,  1.0000000e+00,  1.0000000e+00,  1.0000000e+00,\n",
              "         1.0000000e+00,  1.0000000e+00,  1.0000000e+00,  1.0000000e+00,\n",
              "         7.0417464e-02,  1.1779286e-04,  6.8024762e-02, -2.1053541e-03,\n",
              "         4.7170658e-02, -6.7823067e-02, -5.4822445e-02, -4.8256971e-02,\n",
              "        -5.5375703e-02,  4.1725732e-02,  3.9033256e-02, -3.7349019e-02,\n",
              "         5.8595993e-02,  9.0005575e-04, -5.5163845e-02, -4.9477015e-02,\n",
              "         5.1760111e-02,  3.8167153e-04, -5.1048197e-02,  5.0736800e-02,\n",
              "         6.6817619e-02, -6.6601165e-02, -5.4724362e-02,  6.6093676e-02,\n",
              "         3.4504315e-05,  7.1153991e-06, -4.9928058e-02,  7.4414685e-02,\n",
              "        -4.7073439e-02, -3.9769158e-02,  5.1697958e-02,  6.0834959e-02,\n",
              "        -5.5150185e-02,  5.1568961e-05,  7.8763589e-02, -4.0481191e-02,\n",
              "        -2.6464432e-02, -5.1459000e-02,  3.8085405e-02,  3.2141901e-04,\n",
              "        -6.4733572e-02,  6.0939673e-02, -2.4053108e-02, -7.1915053e-02,\n",
              "        -5.7606377e-02,  5.5620991e-02, -6.9172487e-02,  6.4435328e-05,\n",
              "         5.6302030e-02,  2.6444948e-04,  2.2565174e-01, -4.6853489e-01,\n",
              "         8.6574443e-02, -4.1928568e-01,  2.0852743e-02,  1.3494961e-01,\n",
              "         4.2047039e-02,  8.0784470e-02,  1.3673254e-02,  7.9729542e-02,\n",
              "         9.3016699e-02,  8.1221566e-02,  4.8791386e-02, -4.5033151e-01,\n",
              "         7.0105828e-02, -9.5101461e-02, -4.5775663e-02, -5.3434896e-01,\n",
              "        -1.0565338e-02,  9.5339812e-02,  1.4361793e-01,  1.4884438e-01,\n",
              "         3.1151751e-02,  1.3306877e-01, -5.7867604e-01, -5.5587274e-01,\n",
              "         2.1426683e-02,  1.2512335e-01, -1.8123384e-01, -2.5084630e-01,\n",
              "        -5.8582701e-02,  3.3908027e-01,  1.6412521e-02, -6.4987534e-01,\n",
              "         2.7562806e-01,  1.0366021e-01, -3.8156596e-01, -3.6806392e-04,\n",
              "         1.1169768e-01, -5.4772854e-01,  2.1945800e-01,  1.7340548e-01,\n",
              "        -3.8285625e-01,  1.9309980e-01,  4.9906459e-02, -7.5993389e-03,\n",
              "         2.2408003e-01, -5.0065011e-01,  3.6492523e-02, -5.2005112e-01],\n",
              "       dtype=float32),\n",
              " array([[ 1.0248361e-01,  3.8822506e-02, -1.2823991e-01, ...,\n",
              "         -1.8754497e-02, -9.0504363e-02, -8.8378154e-02],\n",
              "        [ 8.8500254e-02, -4.6932742e-02,  4.0055703e-02, ...,\n",
              "          1.2794769e-01,  1.3669378e-01,  4.4472940e-02],\n",
              "        [ 9.3314871e-02,  9.5490769e-02,  5.7087649e-02, ...,\n",
              "          1.8091056e-01,  4.4348918e-02, -3.9359078e-02],\n",
              "        ...,\n",
              "        [ 1.2683448e-01, -7.4568272e-02,  8.2041129e-02, ...,\n",
              "         -4.8441324e-02, -3.2557514e-02,  1.1518837e-01],\n",
              "        [ 2.1502601e-01, -1.4656151e-02, -5.0565008e-02, ...,\n",
              "          5.3983871e-03, -4.6971507e-02, -5.1665682e-02],\n",
              "        [ 3.1864915e-02, -2.1103047e-02,  9.9275196e-03, ...,\n",
              "          1.1297999e-02,  1.6081572e-01,  9.4314259e-05]], dtype=float32),\n",
              " array([[-0.01380074, -0.01412176, -0.03014679, ..., -0.02141183,\n",
              "          0.00886146,  0.0214035 ],\n",
              "        [ 0.039369  ,  0.00519085, -0.0244809 , ..., -0.01710801,\n",
              "          0.03096211,  0.07257848],\n",
              "        [-0.00692445,  0.11007058, -0.06757772, ...,  0.05386934,\n",
              "         -0.05940555,  0.04151732],\n",
              "        ...,\n",
              "        [-0.10050589,  0.0393983 , -0.02550748, ...,  0.07073039,\n",
              "          0.01441213,  0.03574283],\n",
              "        [ 0.01519338,  0.06962777, -0.02880527, ..., -0.05320603,\n",
              "         -0.06952703,  0.00556296],\n",
              "        [-0.09550992,  0.01509621,  0.08419254, ..., -0.09492621,\n",
              "         -0.10557086,  0.10945395]], dtype=float32),\n",
              " array([-4.95185345e-01, -8.31051245e-02, -2.62178611e-02, -4.20529723e-01,\n",
              "        -1.55933620e-02, -5.02679758e-02, -2.26307705e-01, -3.21696013e-01,\n",
              "        -4.07407582e-01, -1.18930742e-01, -5.31363934e-02, -4.38409179e-01,\n",
              "        -1.84247077e-01, -1.37485743e-01, -1.17176965e-01, -1.33190200e-01,\n",
              "        -6.75851405e-02, -7.01580495e-02, -5.63473888e-02, -2.40841180e-01,\n",
              "        -2.59817451e-01, -1.36622980e-01, -1.91216007e-01, -5.55161610e-02,\n",
              "        -3.75270732e-02, -5.54246418e-02, -3.06946069e-01, -4.36295211e-01,\n",
              "        -5.45820929e-02, -1.93451077e-01, -4.44390595e-01, -2.10222125e-01,\n",
              "        -1.65763125e-01, -4.52182025e-01, -4.71138619e-02, -1.92280248e-01,\n",
              "        -4.80226427e-02, -4.76139486e-02, -3.17431688e-01, -7.54169794e-03,\n",
              "        -8.97523761e-02, -4.30644572e-01, -8.86325613e-02, -3.76251154e-02,\n",
              "        -2.86464691e-01, -1.58994243e-01, -6.77000135e-02, -2.38808066e-01,\n",
              "        -4.70520914e-01, -7.64149651e-02,  1.00000000e+00,  1.00000000e+00,\n",
              "         1.00000000e+00,  1.00000000e+00,  1.00000000e+00,  1.00000000e+00,\n",
              "         1.00000000e+00,  1.00000000e+00,  1.00000000e+00,  1.00000000e+00,\n",
              "         1.00000000e+00,  1.00000000e+00,  1.00000000e+00,  1.00000000e+00,\n",
              "         1.00000000e+00,  1.00000000e+00,  1.00000000e+00,  1.00000000e+00,\n",
              "         1.00000000e+00,  1.00000000e+00,  1.00000000e+00,  1.00000000e+00,\n",
              "         1.00000000e+00,  1.00000000e+00,  1.00000000e+00,  1.00000000e+00,\n",
              "         1.00000000e+00,  1.00000000e+00,  1.00000000e+00,  1.00000000e+00,\n",
              "         1.00000000e+00,  1.00000000e+00,  1.00000000e+00,  1.00000000e+00,\n",
              "         1.00000000e+00,  1.00000000e+00,  1.00000000e+00,  1.00000000e+00,\n",
              "         1.00000000e+00,  1.00000000e+00,  1.00000000e+00,  1.00000000e+00,\n",
              "         1.00000000e+00,  1.00000000e+00,  1.00000000e+00,  1.00000000e+00,\n",
              "         1.00000000e+00,  1.00000000e+00,  1.00000000e+00,  1.00000000e+00,\n",
              "        -6.93659298e-04,  4.39253300e-02,  4.61315773e-02,  1.90414290e-03,\n",
              "        -4.92178909e-02, -4.92922999e-02, -2.34762859e-03, -3.30595591e-04,\n",
              "         1.25526951e-03, -4.19454509e-03,  4.87909392e-02, -2.78104824e-04,\n",
              "        -5.75052248e-03, -7.90732633e-03,  1.15597332e-02,  4.19885898e-03,\n",
              "         4.78035398e-02,  3.62240449e-02, -2.49378104e-02,  6.44430006e-03,\n",
              "        -1.64380425e-03,  3.95227782e-02, -7.43017253e-03,  4.26625125e-02,\n",
              "         5.01516014e-02, -3.69897373e-02,  3.19049763e-03, -2.41945358e-03,\n",
              "         4.79822718e-02, -8.28748103e-03,  2.73031555e-03,  6.96039107e-03,\n",
              "         3.90179921e-03,  3.82306636e-03, -3.89530435e-02, -5.02883736e-03,\n",
              "         4.43370007e-02, -4.68215644e-02,  5.00396185e-04,  5.27287647e-02,\n",
              "         3.73304151e-02,  1.70713279e-03, -3.47513705e-02,  4.24993299e-02,\n",
              "         1.97188536e-04, -3.49809155e-02, -3.67991887e-02,  1.04210654e-03,\n",
              "        -1.64190680e-03,  4.23391126e-02, -4.95512992e-01, -8.30046162e-02,\n",
              "        -2.51324568e-02, -4.21351403e-01, -1.42757138e-02, -4.88147438e-02,\n",
              "        -2.26020500e-01, -3.22621554e-01, -4.08114225e-01, -1.17596753e-01,\n",
              "        -5.37127890e-02, -4.38651264e-01, -1.84282139e-01, -1.37711450e-01,\n",
              "        -1.16355911e-01, -1.32892966e-01, -6.68418333e-02, -6.81647137e-02,\n",
              "        -5.68872169e-02, -2.41104260e-01, -2.59889424e-01, -1.38022065e-01,\n",
              "        -1.91898763e-01, -5.67002408e-02, -3.63804623e-02, -5.58551550e-02,\n",
              "        -3.08148831e-01, -4.36945349e-01, -5.48917055e-02, -1.95299596e-01,\n",
              "        -4.44359630e-01, -2.09098577e-01, -1.66693226e-01, -4.53786045e-01,\n",
              "        -4.68966626e-02, -1.91563785e-01, -4.85260747e-02, -4.78219166e-02,\n",
              "        -3.16060752e-01, -8.73651728e-03, -8.86765495e-02, -4.30786520e-01,\n",
              "        -8.84451121e-02, -3.68627869e-02, -2.84123302e-01, -1.58747703e-01,\n",
              "        -6.70658275e-02, -2.37483904e-01, -4.70529109e-01, -7.85247758e-02],\n",
              "       dtype=float32),\n",
              " array([[-6.8829453e-04],\n",
              "        [ 2.3654385e-01],\n",
              "        [ 2.6641044e-01],\n",
              "        [ 2.9617583e-04],\n",
              "        [-2.8955570e-01],\n",
              "        [-2.8275794e-01],\n",
              "        [ 5.8349967e-04],\n",
              "        [-4.6276633e-04],\n",
              "        [-2.4877131e-04],\n",
              "        [-6.5823697e-02],\n",
              "        [ 2.9317433e-01],\n",
              "        [-3.6294365e-04],\n",
              "        [ 2.9229114e-02],\n",
              "        [-6.5257527e-02],\n",
              "        [ 7.5970955e-02],\n",
              "        [ 5.6486584e-02],\n",
              "        [ 2.9457432e-01],\n",
              "        [ 1.8408012e-01],\n",
              "        [-1.3024607e-01],\n",
              "        [-2.2891569e-03],\n",
              "        [ 8.3091050e-05],\n",
              "        [ 2.2597973e-01],\n",
              "        [ 2.4425533e-02],\n",
              "        [ 2.4181129e-01],\n",
              "        [ 2.9444838e-01],\n",
              "        [-1.8047100e-01],\n",
              "        [-3.1823799e-04],\n",
              "        [-3.1682977e-04],\n",
              "        [ 2.8917733e-01],\n",
              "        [ 2.2358125e-02],\n",
              "        [ 1.3392291e-04],\n",
              "        [-2.2450617e-02],\n",
              "        [-3.8298756e-02],\n",
              "        [ 8.6069928e-04],\n",
              "        [-2.0128991e-01],\n",
              "        [ 2.6110273e-02],\n",
              "        [ 2.4717507e-01],\n",
              "        [-2.5259966e-01],\n",
              "        [-2.8871966e-04],\n",
              "        [ 3.2445109e-01],\n",
              "        [ 1.9132516e-01],\n",
              "        [ 2.8944254e-04],\n",
              "        [-1.8066092e-01],\n",
              "        [ 2.2333649e-01],\n",
              "        [-1.0249799e-04],\n",
              "        [-2.0843309e-01],\n",
              "        [-1.8609205e-01],\n",
              "        [-2.3598393e-04],\n",
              "        [-2.6741895e-04],\n",
              "        [ 2.2099265e-01]], dtype=float32),\n",
              " array([0.08798893], dtype=float32)]"
            ]
          },
          "metadata": {},
          "execution_count": 78
        }
      ]
    },
    {
      "cell_type": "code",
      "source": [],
      "metadata": {
        "id": "sLtuZR1ImtoY"
      },
      "execution_count": null,
      "outputs": []
    }
  ]
}